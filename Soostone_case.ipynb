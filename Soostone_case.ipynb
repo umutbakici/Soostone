{
 "cells": [
  {
   "cell_type": "code",
   "execution_count": null,
   "id": "45dffd23",
   "metadata": {},
   "outputs": [],
   "source": [
    "import pandas as pd\n",
    "import matplotlib.pyplot as plt\n",
    "import seaborn as sns\n",
    "import numpy as np\n",
    "from sklearn.ensemble import RandomForestRegressor\n"
   ]
  },
  {
   "cell_type": "code",
   "execution_count": null,
   "id": "ace081de",
   "metadata": {},
   "outputs": [],
   "source": [
    "df = pd.read_csv('nyc-rolling-sales.csv')"
   ]
  },
  {
   "cell_type": "markdown",
   "id": "0fdeb554",
   "metadata": {},
   "source": [
    "### Data Exploration and Cleaning"
   ]
  },
  {
   "cell_type": "code",
   "execution_count": null,
   "id": "0281724c",
   "metadata": {},
   "outputs": [],
   "source": [
    "df.info()"
   ]
  },
  {
   "cell_type": "code",
   "execution_count": null,
   "id": "ccaffbcf",
   "metadata": {},
   "outputs": [],
   "source": [
    "#Change the types of columns to float and datetime\n",
    "df['SALE DATE'] = pd.to_datetime(df['SALE DATE'])\n",
    "df['SALE PRICE'] = pd.to_numeric(df['SALE PRICE'],errors = 'coerce')\n",
    "df['LAND SQUARE FEET'] = pd.to_numeric(df['LAND SQUARE FEET'],errors = 'coerce')\n",
    "df['GROSS SQUARE FEET'] = pd.to_numeric(df['GROSS SQUARE FEET'],errors = 'coerce')\n",
    "df['BOROUGH'] = df['BOROUGH'].astype('category')\n",
    "df['TAX CLASS AT TIME OF SALE'] = df['TAX CLASS AT TIME OF SALE'].astype('category')\n"
   ]
  },
  {
   "cell_type": "code",
   "execution_count": null,
   "id": "ef180c55",
   "metadata": {},
   "outputs": [],
   "source": [
    "#remove duplicates\n",
    "df.drop_duplicates(inplace=True)"
   ]
  },
  {
   "cell_type": "code",
   "execution_count": null,
   "id": "ca2c5042",
   "metadata": {
    "scrolled": true
   },
   "outputs": [],
   "source": [
    "#Check for missing data\n",
    "df.isnull().sum()"
   ]
  },
  {
   "cell_type": "code",
   "execution_count": null,
   "id": "e0bc3c00",
   "metadata": {},
   "outputs": [],
   "source": [
    "#Percentage of missing values\n",
    "df.isnull().sum()/len(df)*100"
   ]
  },
  {
   "cell_type": "code",
   "execution_count": null,
   "id": "43325302",
   "metadata": {},
   "outputs": [],
   "source": [
    "#To avoid bias, we can either replace the missing values with the mean or we can remove the rows \n",
    "#that contains missing value.\n"
   ]
  },
  {
   "cell_type": "code",
   "execution_count": null,
   "id": "ff9a55f1",
   "metadata": {},
   "outputs": [],
   "source": [
    "#Remove of the missing rows\n",
    "df = df.dropna()\n",
    "df.isnull().sum()"
   ]
  },
  {
   "cell_type": "code",
   "execution_count": null,
   "id": "fe444258",
   "metadata": {},
   "outputs": [],
   "source": [
    "#Remove of 'Unnamed' column\n",
    "df.drop(columns = ['Unnamed: 0'], inplace = True)"
   ]
  },
  {
   "cell_type": "code",
   "execution_count": null,
   "id": "e80258c4",
   "metadata": {
    "scrolled": false
   },
   "outputs": [],
   "source": [
    "#Check for the statistics of the dataset\n",
    "df.describe().T"
   ]
  },
  {
   "cell_type": "code",
   "execution_count": null,
   "id": "77fa7d9d",
   "metadata": {},
   "outputs": [],
   "source": [
    "#There are some min values that seems suspicious. Let's check them!"
   ]
  },
  {
   "cell_type": "code",
   "execution_count": null,
   "id": "4c51fba2",
   "metadata": {},
   "outputs": [],
   "source": [
    "#df[df['LAND SQUARE FEET']==0]\n",
    "#df[df['GROSS SQUARE FEET']==0]\n",
    "#df[df['YEAR BUILT']==0]\n",
    "#df[df['SALE PRICE']==0]"
   ]
  },
  {
   "cell_type": "code",
   "execution_count": null,
   "id": "753cf7a6",
   "metadata": {},
   "outputs": [],
   "source": [
    "#Remove rows of mins=0 as they interpreted as improper data\n",
    "df = df[df['LAND SQUARE FEET']!=0]\n",
    "df = df[df['GROSS SQUARE FEET']!=0]\n",
    "df = df[df['YEAR BUILT']!=0]\n",
    "df = df[df['SALE PRICE']!=0]"
   ]
  },
  {
   "cell_type": "code",
   "execution_count": null,
   "id": "85037c8a",
   "metadata": {
    "scrolled": false
   },
   "outputs": [],
   "source": [
    "#Scatter plot to find outliers\n",
    "fig, axs = plt.subplots(1, 2, figsize=(10, 8))\n",
    "\n",
    "sns.scatterplot(data=df, x=\"YEAR BUILT\", y=\"SALE PRICE\",color='red', ax=axs[0])\n",
    "axs[0].set_title('Year vs Price')\n",
    "sns.scatterplot(data=df, x=\"GROSS SQUARE FEET\", y=\"SALE PRICE\",color='blue', ax=axs[1])\n",
    "axs[1].set_title('Gross Square Feet vs Price')\n",
    "\n",
    "plt.tight_layout()\n",
    "plt.show()"
   ]
  },
  {
   "cell_type": "code",
   "execution_count": null,
   "id": "2a53825e",
   "metadata": {},
   "outputs": [],
   "source": [
    "#df['YEAR BUILT'].sort_values().head(100)\n",
    "#df['GROSS SQUARE FEET'].sort_values().head(100)\n",
    "#df[df['GROSS SQUARE FEET']>100000]"
   ]
  },
  {
   "cell_type": "code",
   "execution_count": null,
   "id": "61bf3f80",
   "metadata": {},
   "outputs": [],
   "source": [
    "#We have few outliers. Some of them are very expensive and high gross square feet.\n",
    "#Need to remove them from our dataset.\n",
    "\n",
    "df = df[df['YEAR BUILT'] >1848] \n",
    "df = df[df['SALE PRICE'] <30000000] \n",
    "df=  df[df['GROSS SQUARE FEET']<100000]"
   ]
  },
  {
   "cell_type": "code",
   "execution_count": null,
   "id": "53805253",
   "metadata": {},
   "outputs": [],
   "source": [
    "#Checking the plots again\n",
    "#Scatter plot to find outliers\n",
    "fig, axs = plt.subplots(1, 2, figsize=(10, 8))\n",
    "\n",
    "sns.scatterplot(data=df, x=\"YEAR BUILT\", y=\"SALE PRICE\",color='red', ax=axs[0])\n",
    "axs[0].set_title('Year vs Price')\n",
    "sns.scatterplot(data=df, x=\"GROSS SQUARE FEET\", y=\"SALE PRICE\",color='blue', ax=axs[1])\n",
    "axs[1].set_title('Gross Square Feet vs Price')\n",
    "\n",
    "plt.tight_layout()\n",
    "plt.show()"
   ]
  },
  {
   "cell_type": "code",
   "execution_count": null,
   "id": "21e29fb9",
   "metadata": {},
   "outputs": [],
   "source": [
    "#Checking the statistics again\n",
    "df.describe().T"
   ]
  },
  {
   "cell_type": "code",
   "execution_count": null,
   "id": "df6357f5",
   "metadata": {},
   "outputs": [],
   "source": [
    "# Even though we removed the zeros, many sales amounts still seems too low to be real.\n",
    "# We need more limits. We can go with the limits belove\n",
    "df = df[(df['SALE PRICE']>1000) & (df['SALE PRICE']<6000000)]\n"
   ]
  },
  {
   "cell_type": "code",
   "execution_count": null,
   "id": "4805790a",
   "metadata": {},
   "outputs": [],
   "source": [
    "#Sale Prices of the properties\n",
    "plt.figure(figsize = (15,10))\n",
    "sns.histplot(df['SALE PRICE'])\n"
   ]
  },
  {
   "cell_type": "code",
   "execution_count": null,
   "id": "4acd0b83",
   "metadata": {
    "scrolled": true
   },
   "outputs": [],
   "source": [
    "np.quantile(df['SALE PRICE'], .75)\n"
   ]
  },
  {
   "cell_type": "code",
   "execution_count": null,
   "id": "bd1cd54f",
   "metadata": {},
   "outputs": [],
   "source": [
    "#More than 75% of properties are worth less than $1 million.\n",
    "#Again, we observe that a significant part of it is close to 0."
   ]
  },
  {
   "cell_type": "code",
   "execution_count": null,
   "id": "fdcbe91d",
   "metadata": {},
   "outputs": [],
   "source": [
    "#Brough Vs Sale Price\n",
    "plt.figure(figsize=(10,6))\n",
    "sns.boxplot(x='BOROUGH', y=\"SALE PRICE\", data=df,showmeans=True)\n",
    "plt.title('BOROUGH vs Sale Price')"
   ]
  },
  {
   "cell_type": "code",
   "execution_count": null,
   "id": "9b546726",
   "metadata": {},
   "outputs": [],
   "source": [
    "#In this boxplot we can see the means and medians of the boroughs.\n",
    "#Borough 1 seems to be the most expensive."
   ]
  },
  {
   "cell_type": "code",
   "execution_count": null,
   "id": "01eb2af0",
   "metadata": {
    "scrolled": false
   },
   "outputs": [],
   "source": [
    "#Trendline for Sales Prices throughout the year\n",
    "plt.figure(figsize=(10,6))\n",
    "sns.lineplot(x=df['SALE DATE'].dt.month_name(), y=\"SALE PRICE\", data=df)\n",
    "plt.title('Trend of Sales by Months')"
   ]
  },
  {
   "cell_type": "code",
   "execution_count": null,
   "id": "94f751ba",
   "metadata": {},
   "outputs": [],
   "source": [
    "#We see that house prices are highest in the summer months, followed by the spring months,\n",
    "#and lowest in the winter months."
   ]
  },
  {
   "cell_type": "code",
   "execution_count": null,
   "id": "edd3ebdf",
   "metadata": {
    "scrolled": true
   },
   "outputs": [],
   "source": [
    "#correlation matrix\n",
    "f, ax = plt.subplots(figsize=(10, 10))\n",
    "sns.heatmap(df.corr(), cmap = 'coolwarm', annot= True)\n",
    "plt.title('Variable Correlation')"
   ]
  },
  {
   "cell_type": "code",
   "execution_count": null,
   "id": "0e641bed",
   "metadata": {},
   "outputs": [],
   "source": [
    "# We need this correlations to select the features of the model that we will build.\n",
    "df.corr()['SALE PRICE'].sort_values(ascending=False)"
   ]
  },
  {
   "cell_type": "code",
   "execution_count": null,
   "id": "33c49ca4",
   "metadata": {},
   "outputs": [],
   "source": [
    "#We can see correlation between 'Sale Price and Gross Square Feet' and 'Tax Class At Time Of Sale'.\n",
    "#There are week correlation between 'Sale Price and Residential Units'"
   ]
  },
  {
   "cell_type": "code",
   "execution_count": null,
   "id": "5c3721d2",
   "metadata": {},
   "outputs": [],
   "source": [
    "#We can say that 'Gross Square Feet' and 'TAX CLASS AT TIME OF SALE' affect the price most"
   ]
  },
  {
   "cell_type": "markdown",
   "id": "1bae6d53",
   "metadata": {},
   "source": [
    "# Regression Model"
   ]
  },
  {
   "cell_type": "code",
   "execution_count": null,
   "id": "9f49c0ab",
   "metadata": {
    "scrolled": true
   },
   "outputs": [],
   "source": [
    "x=df[['GROSS SQUARE FEET','BOROUGH','TAX CLASS AT TIME OF SALE','RESIDENTIAL UNITS','LOT']]"
   ]
  },
  {
   "cell_type": "code",
   "execution_count": null,
   "id": "0ed73e81",
   "metadata": {
    "scrolled": true
   },
   "outputs": [],
   "source": [
    "y = df['SALE PRICE']"
   ]
  },
  {
   "cell_type": "markdown",
   "id": "79c62e68",
   "metadata": {},
   "source": [
    "### One-Hot Encoding"
   ]
  },
  {
   "cell_type": "code",
   "execution_count": null,
   "id": "ec4c5bd9",
   "metadata": {
    "scrolled": true
   },
   "outputs": [],
   "source": [
    "#Select the variables to be one-hot encoded\n",
    "one_hot_features = ['BOROUGH','TAX CLASS AT TIME OF SALE']\n",
    "\n",
    "one_hot_encoded = pd.get_dummies(x[one_hot_features])\n",
    "one_hot_encoded.info(verbose=True, memory_usage=True)"
   ]
  },
  {
   "cell_type": "code",
   "execution_count": null,
   "id": "fbcd6f0a",
   "metadata": {
    "scrolled": true
   },
   "outputs": [],
   "source": [
    "# Replacing categorical columns with dummies\n",
    "x = x.drop(one_hot_features,axis=1)\n",
    "x = pd.concat([x, one_hot_encoded] ,axis=1)"
   ]
  },
  {
   "cell_type": "markdown",
   "id": "86729564",
   "metadata": {},
   "source": [
    "### Model Training"
   ]
  },
  {
   "cell_type": "code",
   "execution_count": null,
   "id": "a64d400b",
   "metadata": {},
   "outputs": [],
   "source": [
    "from sklearn.model_selection import train_test_split\n",
    "x_train, x_test, y_train, y_test = train_test_split(x,y, test_size = .20, random_state= 0)"
   ]
  },
  {
   "cell_type": "code",
   "execution_count": null,
   "id": "443205ff",
   "metadata": {},
   "outputs": [],
   "source": [
    "from sklearn.linear_model import LinearRegression\n",
    "regressor = LinearRegression()\n",
    "regressor.fit(x_train,y_train)"
   ]
  },
  {
   "cell_type": "code",
   "execution_count": null,
   "id": "25497474",
   "metadata": {},
   "outputs": [],
   "source": [
    "y_pred = regressor.predict(x_test)"
   ]
  },
  {
   "cell_type": "code",
   "execution_count": null,
   "id": "065feba6",
   "metadata": {},
   "outputs": [],
   "source": []
  },
  {
   "cell_type": "markdown",
   "id": "13805995",
   "metadata": {},
   "source": [
    "### Plot of the test group and pred group"
   ]
  },
  {
   "cell_type": "code",
   "execution_count": null,
   "id": "0f91b94b",
   "metadata": {
    "scrolled": true
   },
   "outputs": [],
   "source": [
    "sns.histplot(data=y_test - y_pred, bins=50, kde=True)\n"
   ]
  },
  {
   "cell_type": "markdown",
   "id": "07437e5b",
   "metadata": {},
   "source": [
    "### Performance Of The Model"
   ]
  },
  {
   "cell_type": "code",
   "execution_count": null,
   "id": "5490f837",
   "metadata": {
    "scrolled": true
   },
   "outputs": [],
   "source": [
    "from sklearn import metrics\n",
    "print('MAE:',metrics.mean_absolute_error(y_test,y_pred))\n",
    "print('MSE:',metrics.mean_squared_error(y_test,y_pred))\n",
    "print('RMSE:',np.sqrt(metrics.mean_squared_error(y_test,y_pred)))"
   ]
  },
  {
   "cell_type": "code",
   "execution_count": null,
   "id": "99fe14cf",
   "metadata": {},
   "outputs": [],
   "source": [
    "#MAE is not very sensitive to outliers in comparison to MSE since it doesn’t punish huge errors.\n",
    "#MSE is more accurate than MAE as it highlights large errors over small ones.\n",
    "#RMSE assigns a higher weight to larger errors as errors are squared before they are averaged."
   ]
  },
  {
   "cell_type": "code",
   "execution_count": null,
   "id": "abda3293",
   "metadata": {},
   "outputs": [],
   "source": [
    "#We know there are outliers in the dataset even though we removed some of them. So MAE is the best fit for our model."
   ]
  },
  {
   "cell_type": "code",
   "execution_count": null,
   "id": "340fc1f0",
   "metadata": {
    "scrolled": true
   },
   "outputs": [],
   "source": [
    "r2 = metrics.r2_score(y_test,y_pred)\n",
    "print(r2)"
   ]
  },
  {
   "cell_type": "code",
   "execution_count": null,
   "id": "3650adf5",
   "metadata": {},
   "outputs": [],
   "source": [
    "#R-squared is the “percent of variance explained” by the model. \n",
    "#R2=0.24, it means that 24% of the variance in the dependent variable can be explained by the independent variable"
   ]
  },
  {
   "cell_type": "markdown",
   "id": "6d8bca3f",
   "metadata": {},
   "source": [
    "# Bonus Model To Discuss: Random Forest Regression"
   ]
  },
  {
   "cell_type": "code",
   "execution_count": null,
   "id": "7c2b3287",
   "metadata": {},
   "outputs": [],
   "source": [
    "rf_regr = RandomForestRegressor()\n",
    "rf_regr.fit(x_train, y_train)\n"
   ]
  },
  {
   "cell_type": "code",
   "execution_count": null,
   "id": "c6988d8c",
   "metadata": {},
   "outputs": [],
   "source": [
    "y_pred_rf = rf_regr.predict(x_test)\n"
   ]
  },
  {
   "cell_type": "code",
   "execution_count": null,
   "id": "e3de5758",
   "metadata": {},
   "outputs": [],
   "source": [
    "print('MAE:',metrics.mean_absolute_error(y_test,y_pred_rf))\n",
    "print('MSE:',metrics.mean_squared_error(y_test,y_pred_rf))\n",
    "print('RMSE:',np.sqrt(metrics.mean_squared_error(y_test,y_pred_rf)))"
   ]
  },
  {
   "cell_type": "code",
   "execution_count": null,
   "id": "8ebf0966",
   "metadata": {},
   "outputs": [],
   "source": [
    "r2 = metrics.r2_score(y_test,y_pred_rf)\n",
    "print(r2)"
   ]
  }
 ],
 "metadata": {
  "kernelspec": {
   "display_name": "Python 3 (ipykernel)",
   "language": "python",
   "name": "python3"
  },
  "language_info": {
   "codemirror_mode": {
    "name": "ipython",
    "version": 3
   },
   "file_extension": ".py",
   "mimetype": "text/x-python",
   "name": "python",
   "nbconvert_exporter": "python",
   "pygments_lexer": "ipython3",
   "version": "3.9.2"
  }
 },
 "nbformat": 4,
 "nbformat_minor": 5
}
